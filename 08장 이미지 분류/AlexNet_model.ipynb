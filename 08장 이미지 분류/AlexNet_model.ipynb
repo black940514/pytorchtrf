{
 "cells": [
  {
   "cell_type": "code",
   "execution_count": 3,
   "id": "f72bfb8a-fe55-4bb4-bab1-fd27cea72c56",
   "metadata": {},
   "outputs": [
    {
     "data": {
      "text/plain": [
       "==========================================================================================\n",
       "Layer (type:depth-idx)                   Output Shape              Param #\n",
       "==========================================================================================\n",
       "AlexNet                                  [1, 1000]                 --\n",
       "├─Sequential: 1-1                        [1, 256, 6, 6]            --\n",
       "│    └─Conv2d: 2-1                       [1, 64, 55, 55]           23,296\n",
       "│    └─ReLU: 2-2                         [1, 64, 55, 55]           --\n",
       "│    └─MaxPool2d: 2-3                    [1, 64, 27, 27]           --\n",
       "│    └─Conv2d: 2-4                       [1, 192, 27, 27]          307,392\n",
       "│    └─ReLU: 2-5                         [1, 192, 27, 27]          --\n",
       "│    └─MaxPool2d: 2-6                    [1, 192, 13, 13]          --\n",
       "│    └─Conv2d: 2-7                       [1, 384, 13, 13]          663,936\n",
       "│    └─ReLU: 2-8                         [1, 384, 13, 13]          --\n",
       "│    └─Conv2d: 2-9                       [1, 256, 13, 13]          884,992\n",
       "│    └─ReLU: 2-10                        [1, 256, 13, 13]          --\n",
       "│    └─Conv2d: 2-11                      [1, 256, 13, 13]          590,080\n",
       "│    └─ReLU: 2-12                        [1, 256, 13, 13]          --\n",
       "│    └─MaxPool2d: 2-13                   [1, 256, 6, 6]            --\n",
       "├─AdaptiveAvgPool2d: 1-2                 [1, 256, 6, 6]            --\n",
       "├─Sequential: 1-3                        [1, 1000]                 --\n",
       "│    └─Dropout: 2-14                     [1, 9216]                 --\n",
       "│    └─Linear: 2-15                      [1, 4096]                 37,752,832\n",
       "│    └─ReLU: 2-16                        [1, 4096]                 --\n",
       "│    └─Dropout: 2-17                     [1, 4096]                 --\n",
       "│    └─Linear: 2-18                      [1, 4096]                 16,781,312\n",
       "│    └─ReLU: 2-19                        [1, 4096]                 --\n",
       "│    └─Linear: 2-20                      [1, 1000]                 4,097,000\n",
       "==========================================================================================\n",
       "Total params: 61,100,840\n",
       "Trainable params: 61,100,840\n",
       "Non-trainable params: 0\n",
       "Total mult-adds (M): 714.68\n",
       "==========================================================================================\n",
       "Input size (MB): 0.60\n",
       "Forward/backward pass size (MB): 3.95\n",
       "Params size (MB): 244.40\n",
       "Estimated Total Size (MB): 248.96\n",
       "=========================================================================================="
      ]
     },
     "execution_count": 3,
     "metadata": {},
     "output_type": "execute_result"
    }
   ],
   "source": [
    "from torchvision import models\n",
    "from torchinfo import summary\n",
    "\n",
    "\n",
    "model = models.alexnet(weights=\"AlexNet_Weights.IMAGENET1K_V1\")\n",
    "summary(model, (1, 3, 224, 224), device=\"cpu\")"
   ]
  },
  {
   "cell_type": "code",
   "execution_count": 4,
   "id": "6c6d74f1-5526-4aa1-9f12-aff2d2731367",
   "metadata": {},
   "outputs": [
    {
     "name": "stdout",
     "output_type": "stream",
     "text": [
      "클래스 개수 : 1000\n",
      "첫 번째 클래스 레이블 : tench\n"
     ]
    }
   ],
   "source": [
    "with open(\"../datasets/imagenet_classes.txt\", \"r\") as file:\n",
    "    classes = file.read().splitlines()\n",
    "    \n",
    "print(f\"클래스 개수 : {len(classes)}\")\n",
    "print(f\"첫 번째 클래스 레이블 : {classes[0]}\")"
   ]
  },
  {
   "cell_type": "code",
   "execution_count": 7,
   "id": "a919bc32-b25a-40ec-9b09-ded68821ef27",
   "metadata": {},
   "outputs": [
    {
     "name": "stdout",
     "output_type": "stream",
     "text": [
      "입력 텐서의 크기 : torch.Size([2, 3, 224, 224])\n"
     ]
    }
   ],
   "source": [
    "import torch\n",
    "from PIL import Image\n",
    "from torchvision import models, transforms\n",
    "\n",
    "\n",
    "transform = transforms.Compose(\n",
    "    [\n",
    "        transforms.Resize((224, 224)),\n",
    "        transforms.ToTensor(),\n",
    "        transforms.Normalize(\n",
    "            mean=[0.485, 0.456, 0.406],\n",
    "            std=[0.229, 0.224, 0.225]\n",
    "        ),\n",
    "    ]\n",
    ")\n",
    "\n",
    "device = \"mps\" if torch.backends.mps.is_available() else \"cpu\"\n",
    "model = models.alexnet(weights=\"AlexNet_Weights.IMAGENET1K_V1\").eval().to(device)\n",
    "\n",
    "model = model.to(device)      \n",
    "\n",
    "tensors = []\n",
    "files = [\"../datasets/images/airplane.jpg\", \"../datasets/images/bus.jpg\"]\n",
    "for file in files:\n",
    "    image = Image.open(file)\n",
    "    tensors.append(transform(image))\n",
    "\n",
    "tensors = torch.stack(tensors)\n",
    "print(f\"입력 텐서의 크기 : {tensors.shape}\")"
   ]
  },
  {
   "cell_type": "code",
   "execution_count": 8,
   "id": "a12823ba",
   "metadata": {},
   "outputs": [
    {
     "data": {
      "text/html": [
       "<pre style=\"white-space:pre;overflow-x:auto;line-height:normal;font-family:Menlo,'DejaVu Sans Mono',consolas,'Courier New',monospace\"><span style=\"font-style: italic\">  ../datasets/images/airplane.jpg  </span>\n",
       "<span style=\"font-style: italic\">             추론 결과             </span>\n",
       "┏━━━━━━━━━━━━━━━┳━━━━━━━━━━━━━━━━━┓\n",
       "┃<span style=\"font-weight: bold\"> Class         </span>┃<span style=\"font-weight: bold\"> Probability (%) </span>┃\n",
       "┡━━━━━━━━━━━━━━━╇━━━━━━━━━━━━━━━━━┩\n",
       "│ airliner      │          66.83% │\n",
       "│ warplane      │          20.12% │\n",
       "│ wing          │           9.29% │\n",
       "│ space shuttle │           2.89% │\n",
       "│ missile       │           0.38% │\n",
       "└───────────────┴─────────────────┘\n",
       "</pre>\n"
      ],
      "text/plain": [
       "\u001b[3m  ../datasets/images/airplane.jpg  \u001b[0m\n",
       "\u001b[3m             추론 결과             \u001b[0m\n",
       "┏━━━━━━━━━━━━━━━┳━━━━━━━━━━━━━━━━━┓\n",
       "┃\u001b[1m \u001b[0m\u001b[1mClass        \u001b[0m\u001b[1m \u001b[0m┃\u001b[1m \u001b[0m\u001b[1mProbability (%)\u001b[0m\u001b[1m \u001b[0m┃\n",
       "┡━━━━━━━━━━━━━━━╇━━━━━━━━━━━━━━━━━┩\n",
       "│ airliner      │          66.83% │\n",
       "│ warplane      │          20.12% │\n",
       "│ wing          │           9.29% │\n",
       "│ space shuttle │           2.89% │\n",
       "│ missile       │           0.38% │\n",
       "└───────────────┴─────────────────┘\n"
      ]
     },
     "metadata": {},
     "output_type": "display_data"
    },
    {
     "data": {
      "text/html": [
       "<pre style=\"white-space:pre;overflow-x:auto;line-height:normal;font-family:Menlo,'DejaVu Sans Mono',consolas,'Courier New',monospace\"><span style=\"font-style: italic\">   ../datasets/images/bus.jpg 추론 결과   </span>\n",
       "┏━━━━━━━━━━━━━━━━━━━━━━┳━━━━━━━━━━━━━━━━━┓\n",
       "┃<span style=\"font-weight: bold\"> Class                </span>┃<span style=\"font-weight: bold\"> Probability (%) </span>┃\n",
       "┡━━━━━━━━━━━━━━━━━━━━━━╇━━━━━━━━━━━━━━━━━┩\n",
       "│ streetcar            │          60.25% │\n",
       "│ trolleybus           │          37.99% │\n",
       "│ minibus              │           1.54% │\n",
       "│ passenger car        │           0.17% │\n",
       "│ recreational vehicle │           0.03% │\n",
       "└──────────────────────┴─────────────────┘\n",
       "</pre>\n"
      ],
      "text/plain": [
       "\u001b[3m   ../datasets/images/bus.jpg 추론 결과   \u001b[0m\n",
       "┏━━━━━━━━━━━━━━━━━━━━━━┳━━━━━━━━━━━━━━━━━┓\n",
       "┃\u001b[1m \u001b[0m\u001b[1mClass               \u001b[0m\u001b[1m \u001b[0m┃\u001b[1m \u001b[0m\u001b[1mProbability (%)\u001b[0m\u001b[1m \u001b[0m┃\n",
       "┡━━━━━━━━━━━━━━━━━━━━━━╇━━━━━━━━━━━━━━━━━┩\n",
       "│ streetcar            │          60.25% │\n",
       "│ trolleybus           │          37.99% │\n",
       "│ minibus              │           1.54% │\n",
       "│ passenger car        │           0.17% │\n",
       "│ recreational vehicle │           0.03% │\n",
       "└──────────────────────┴─────────────────┘\n"
      ]
     },
     "metadata": {},
     "output_type": "display_data"
    }
   ],
   "source": [
    "import torch\n",
    "from torch.nn.functional import softmax\n",
    "from rich.console import Console\n",
    "from rich.table import Table\n",
    "\n",
    "console = Console()\n",
    "\n",
    "with torch.no_grad():\n",
    "    outputs = model(tensors.to(\"mps\"))  \n",
    "    probs = softmax(outputs, dim=-1)\n",
    "    top_probs, top_idxs = probs.topk(5)\n",
    "\n",
    "top_classes = [[classes[idx] for idx in indices] for indices in top_idxs.tolist()]\n",
    "\n",
    "for idx, (file, cls, prob) in enumerate(zip(files, top_classes, top_probs.tolist())):\n",
    "    table = Table(title=f\"{file} 추론 결과\")\n",
    "    table.add_column(\"Class\", justify=\"left\")\n",
    "    table.add_column(\"Probability (%)\", justify=\"right\")\n",
    "    for c, p in zip(cls, prob):\n",
    "        table.add_row(c, f\"{p * 100:.2f}%\")\n",
    "    console.print(table)\n"
   ]
  },
  {
   "cell_type": "code",
   "execution_count": null,
   "id": "730aba87",
   "metadata": {},
   "outputs": [],
   "source": []
  },
  {
   "cell_type": "code",
   "execution_count": null,
   "id": "48f8d347",
   "metadata": {},
   "outputs": [],
   "source": []
  },
  {
   "cell_type": "code",
   "execution_count": null,
   "id": "cbf7eef9",
   "metadata": {},
   "outputs": [],
   "source": []
  },
  {
   "cell_type": "code",
   "execution_count": null,
   "id": "6350542a",
   "metadata": {},
   "outputs": [],
   "source": []
  }
 ],
 "metadata": {
  "kernelspec": {
   "display_name": "Python 3 (ipykernel)",
   "language": "python",
   "name": "python3"
  },
  "language_info": {
   "codemirror_mode": {
    "name": "ipython",
    "version": 3
   },
   "file_extension": ".py",
   "mimetype": "text/x-python",
   "name": "python",
   "nbconvert_exporter": "python",
   "pygments_lexer": "ipython3",
   "version": "3.10.16"
  }
 },
 "nbformat": 4,
 "nbformat_minor": 5
}
